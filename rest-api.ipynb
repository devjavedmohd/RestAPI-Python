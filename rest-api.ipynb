{
 "cells": [
  {
   "cell_type": "code",
   "execution_count": 3,
   "metadata": {},
   "outputs": [],
   "source": [
    "import requests\n",
    "import json\n",
    "\n"
   ]
  },
  {
   "cell_type": "code",
   "execution_count": 9,
   "metadata": {},
   "outputs": [
    {
     "name": "stdout",
     "output_type": "stream",
     "text": [
      "skipped\n",
      "\n",
      "Extreme RMSE Validation Score in Time Series Model\n",
      "https://stackoverflow.com/questions/78775154/extreme-rmse-validation-score-in-time-series-model\n",
      "\n",
      "append to a javascript array from a vb.net timer\n",
      "https://stackoverflow.com/questions/22463494/append-to-a-javascript-array-from-a-vb-net-timer\n",
      "\n",
      "Django create() not applying annotations applied on manager\n",
      "https://stackoverflow.com/questions/78775141/django-create-not-applying-annotations-applied-on-manager\n",
      "\n",
      "How can I scrape websites to find those using a specific SaaS software?\n",
      "https://stackoverflow.com/questions/78775109/how-can-i-scrape-websites-to-find-those-using-a-specific-saas-software\n",
      "\n",
      "skipped\n",
      "\n",
      "Confusion in Linux filesystem and mounting point\n",
      "https://stackoverflow.com/questions/78775124/confusion-in-linux-filesystem-and-mounting-point\n",
      "\n",
      "skipped\n",
      "\n",
      "skipped\n",
      "\n",
      "skipped\n",
      "\n",
      "skipped\n",
      "\n",
      "skipped\n",
      "\n",
      "skipped\n",
      "\n",
      "Alerts to MS Teams\n",
      "https://stackoverflow.com/questions/78775144/alerts-to-ms-teams\n",
      "\n",
      "mocking createAsyncThunk exhibits odd behavior\n",
      "https://stackoverflow.com/questions/78775143/mocking-createasyncthunk-exhibits-odd-behavior\n",
      "\n",
      "skipped\n",
      "\n",
      "skipped\n",
      "\n",
      "skipped\n",
      "\n",
      "skipped\n",
      "\n",
      "skipped\n",
      "\n",
      "skipped\n",
      "\n",
      "skipped\n",
      "\n",
      "Laravel Sanctum: CORS error, no Access-Control-Allow-Origin header when unauthenticated\n",
      "https://stackoverflow.com/questions/78775136/laravel-sanctum-cors-error-no-access-control-allow-origin-header-when-unauthen\n",
      "\n",
      "Bad configuration option: usekeychain\n",
      "https://stackoverflow.com/questions/78775135/bad-configuration-option-usekeychain\n",
      "\n",
      "Minzinc does not return optimal solution\n",
      "https://stackoverflow.com/questions/78768353/minzinc-does-not-return-optimal-solution\n",
      "\n",
      "How to avoid `{}` when aggregate-initializing a derived class with designated initializers?\n",
      "https://stackoverflow.com/questions/78770805/how-to-avoid-when-aggregate-initializing-a-derived-class-with-designated-in\n",
      "\n",
      "Problem in &#39;ngx-intl-tel-input&#39; library dropdown not working\n",
      "https://stackoverflow.com/questions/78775134/problem-in-ngx-intl-tel-input-library-dropdown-not-working\n",
      "\n",
      "I am doing multiclass classification, but I am having hard time with how to do the feature and model selection with the parameter tuning\n",
      "https://stackoverflow.com/questions/78775112/i-am-doing-multiclass-classification-but-i-am-having-hard-time-with-how-to-do-t\n",
      "\n",
      "skipped\n",
      "\n",
      "skipped\n",
      "\n"
     ]
    }
   ],
   "source": [
    "response = requests.get('https://api.stackexchange.com/2.3/questions?order=desc&sort=activity&site=stackoverflow')\n",
    "\n",
    "for data in response.json()['items']:\n",
    "    if data['answer_count'] == 0:\n",
    "        print(data['title'])\n",
    "        print(data['link'])\n",
    "    else:\n",
    "        print('skipped')\n",
    "    print()"
   ]
  },
  {
   "cell_type": "code",
   "execution_count": null,
   "metadata": {},
   "outputs": [],
   "source": []
  }
 ],
 "metadata": {
  "kernelspec": {
   "display_name": "pyspark_env",
   "language": "python",
   "name": "python3"
  },
  "language_info": {
   "codemirror_mode": {
    "name": "ipython",
    "version": 3
   },
   "file_extension": ".py",
   "mimetype": "text/x-python",
   "name": "python",
   "nbconvert_exporter": "python",
   "pygments_lexer": "ipython3",
   "version": "3.10.0"
  }
 },
 "nbformat": 4,
 "nbformat_minor": 2
}
